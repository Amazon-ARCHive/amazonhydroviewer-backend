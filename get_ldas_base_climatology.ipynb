{
 "cells": [
  {
   "cell_type": "markdown",
   "id": "a1fe9cf3",
   "metadata": {},
   "source": [
    "# Get Base Climatology\n",
    "\n",
    "This notebook automatically discovers the latest LDAS forecast initialization and builds the base climatology products by averaging the historical December‑01 hindcasts tied to that run. It produces deterministic monthly means for each surface variable and derives hydrologic zonal averages for the active area of interest.\n",
    "\n",
    "Surface variable units:\n",
    "- `Rainf_tavg`: mm/day\n",
    "- `Qair_f_tavg`: g/kg\n",
    "- `Qs_tavg`: mm/day\n",
    "- `Evap_tavg`: mm/day\n",
    "- `Tair_f_tavg`: degree Celsius\n",
    "- `SoilMoist_inst`: m^3 m-3\n",
    "- `SoilTemp_inst`: degree Celsius\n",
    "- `Streamflow_tavg`: m^3/s\n"
   ]
  },
  {
   "cell_type": "code",
   "execution_count": 4,
   "id": "25618c46",
   "metadata": {},
   "outputs": [],
   "source": [
    "import xarray as xr\n",
    "import regionmask\n",
    "import geopandas as gpd\n",
    "import xarray as xr\n",
    "import os\n",
    "import pandas as pd\n",
    "import re\n",
    "from tqdm import tqdm\n",
    "from datetime import datetime\n",
    "from pathlib import Path\n",
    "\n",
    "## Global variables\n",
    "list_of_variables = {'Rainf_tavg' : 'Average precipitation', \n",
    "                    'Qair_f_tavg' : 'Specific humidity',\n",
    "                    'Qs_tavg':'Surface runoff',\n",
    "                    'Evap_tavg':'Evapotranspiration',\n",
    "                    'Tair_f_tavg':'Avg. air temperature',\n",
    "                    'SoilMoist_inst': 'Soil moisture',\n",
    "                    'SoilTemp_inst': 'Soil temperature',\n",
    "                    'Streamflow_tavg': 'Stream flow'}\n",
    "\n",
    "geodataframe_path = \"https://raw.githubusercontent.com/blackteacatsu/\" \\\n",
    "\"spring_2024_envs_research_amazon_ldas/main/resources/hybas_sa_lev05_areaofstudy.geojson\"\n",
    "\n",
    "\n",
    "# Load geodataframe and get all PFAF_Ids_forecast\n",
    "geodataframe = gpd.read_file(geodataframe_path)\n",
    "pfaf_ids_aoi = geodataframe.PFAF_ID.unique()\n",
    "\n",
    "output_dir = \"get_zonal_averages_climatology_csv\"\n",
    "os.makedirs(output_dir, exist_ok=True)\n",
    "soilmoist_levels = [0,1,2,3]\n",
    "soiltemp_levels = [0,1,2,3]"
   ]
  },
  {
   "cell_type": "markdown",
   "id": "bfff542c",
   "metadata": {},
   "source": [
    "`Recognize latest forecast `"
   ]
  },
  {
   "cell_type": "code",
   "execution_count": 3,
   "id": "77f34de5",
   "metadata": {},
   "outputs": [
    {
     "name": "stdout",
     "output_type": "stream",
     "text": [
      "Forecast file: /mnt/vast/prakrut/backup/malaria_amazon/amazon_forecast/ldas_fcst_2024_dec01.nc\n",
      "Hindcasts   : 23\n",
      "Init date   : 2024-12-01 00:00:00\n",
      "Forecast initialization date: 2024_dec\n"
     ]
    }
   ],
   "source": [
    "# --- helpers ---\n",
    "_MONTHS = {m: i+1 for i, m in enumerate(\n",
    "    [\"jan\",\"feb\",\"mar\",\"apr\",\"may\",\"jun\",\"jul\",\"aug\",\"sep\",\"oct\",\"nov\",\"dec\"]\n",
    ")}\n",
    "\n",
    "_PATTERNS = [\n",
    "    re.compile(r'^ldas_fcst_(\\d{4})_([a-z]{3})(\\d{2})\\.nc$', re.I),  # ldas_fcst_2024_dec01.nc\n",
    "    re.compile(r'^ldas_fcst_(\\d{4})(\\d{2})(\\d{2})\\.nc$', re.I),      # ldas_fcst_20241201.nc\n",
    "]\n",
    "\n",
    "def _parse_date_from_name(name: str) -> datetime | None:\n",
    "    for pat in _PATTERNS:\n",
    "        m = pat.match(name)\n",
    "        if not m:\n",
    "            continue\n",
    "        if pat is _PATTERNS[0]:\n",
    "            y = int(m.group(1))\n",
    "            mon = _MONTHS.get(m.group(2).lower())\n",
    "            d = int(m.group(3))\n",
    "        else:\n",
    "            y, mon, d = int(m.group(1)), int(m.group(2)), int(m.group(3))\n",
    "        if mon and 1 <= mon <= 12 and 1 <= d <= 31:\n",
    "            return datetime(y, mon, d)\n",
    "    return None\n",
    "\n",
    "def forecast_init_datetime(fpath: str) -> datetime:\n",
    "    dt = _parse_date_from_name(Path(fpath).name)\n",
    "    if dt is None:\n",
    "        raise ValueError(f\"Unrecognized forecast filename format: {fpath}\")\n",
    "    return dt\n",
    "\n",
    "# --- main: forecast = latest by encoded date; hindcasts = existing Dec-01 files from prior years ---\n",
    "def split_forecast_and_dec_hindcasts(\n",
    "    dir_path: str,\n",
    "    prefix: str = \"ldas_fcst_\",\n",
    "    recursive: bool = False\n",
    "):\n",
    "    base = Path(dir_path)\n",
    "    if not base.is_dir():\n",
    "        raise NotADirectoryError(f\"Not a directory: {dir_path}\")\n",
    "\n",
    "    pattern = \"**/*.nc\" if recursive else \"*.nc\"\n",
    "    items = []\n",
    "    for p in base.glob(pattern):\n",
    "        if not p.is_file():\n",
    "            continue\n",
    "        name = p.name\n",
    "        if not name.startswith(prefix) or not name.endswith(\".nc\"):\n",
    "            continue\n",
    "        dt = _parse_date_from_name(name)\n",
    "        if dt is None:\n",
    "            continue\n",
    "        items.append((dt, p.stat().st_mtime, name, p))\n",
    "\n",
    "    if not items:\n",
    "        raise FileNotFoundError(f\"No matching .nc files found in {dir_path} (prefix='{prefix}')\")\n",
    "\n",
    "    # latest by (date, mtime, name)\n",
    "    items.sort(key=lambda t: (t[0], t[1], t[2]))\n",
    "    forecast_path = items[-1][3]\n",
    "    forecast_dt = items[-1][0]\n",
    "\n",
    "    # Hindcasts = existing Dec-01 files from earlier years only\n",
    "    hindcasts = [\n",
    "        p for (dt, _, _, p) in items\n",
    "        if dt.year < forecast_dt.year and dt.month == 12 and dt.day == 1\n",
    "    ]\n",
    "    # Sort hindcasts by year ascending (oldest → newest)\n",
    "    hindcasts.sort(key=lambda p: _parse_date_from_name(p.name))\n",
    "\n",
    "    return str(forecast_path), [str(p) for p in hindcasts], forecast_dt\n",
    "\n",
    "# --- usage ---\n",
    "surface_model_file_path = r\"/mnt/vast/prakrut/backup/malaria_amazon/amazon_forecast\"\n",
    "\n",
    "forecast_file, hindcast_files, f_dt = split_forecast_and_dec_hindcasts(surface_model_file_path)\n",
    "\n",
    "print(\"Forecast file:\", forecast_file)          # e.g., .../ldas_fcst_2024_dec01.nc\n",
    "print(\"Hindcasts   :\", len(hindcast_files))     # only Dec-01 of prior years\n",
    "print(\"Init date   :\", f_dt)                    # 2024-12-01 00:00:00\n",
    "\n",
    "#print(hindcast_files)\n",
    "# If you still want the 'YYYY_mon' tag:\n",
    "initialization_date = f\"{f_dt.year}_{f_dt.strftime('%b').lower()}\"  # '2024_dec'\n",
    "print(\"Forecast initialization date:\", initialization_date)\n"
   ]
  },
  {
   "cell_type": "markdown",
   "id": "ddbaa711",
   "metadata": {},
   "source": [
    "## Functions"
   ]
  },
  {
   "cell_type": "code",
   "execution_count": 5,
   "id": "1952a16d",
   "metadata": {},
   "outputs": [],
   "source": [
    "# Read gridded data array and find coordinates variable\n",
    "def get_standard_coordinates(dataset: xr.Dataset, lon_names=None, lat_names=None, time_names=None):\n",
    "    \"\"\"\n",
    "    Retrieve longitude, latitude, and time variables from an xarray dataset,\n",
    "    accommodating different naming conventions.\n",
    "\n",
    "    Parameters:\n",
    "        dataset (xr.DataArray): The xarray data array to search.\n",
    "        lon_names (list): List of possible names for longitude (default: common names).\n",
    "        lat_names (list): List of possible names for latitude (default: common names).\n",
    "        time_names (list): List of possible names for time (default: common names).\n",
    "\n",
    "    Returns:\n",
    "        tuple: Longitude, latitude, and time variables.\n",
    "\n",
    "    Raises:\n",
    "        AttributeError: If any of the required variables are not found.\n",
    "    \"\"\"\n",
    "\n",
    "    lon_names = lon_names or [\"east_west\", \"lon\", \"longitude\"]\n",
    "    lat_names = lat_names or [\"north_south\", \"lat\", \"latitude\"]\n",
    "    time_names = time_names or [\"time\", \"month\", \"date\"]\n",
    "\n",
    "    def find_variable(dataset, possible_names):\n",
    "        for name in possible_names:\n",
    "            if name in dataset.dims:\n",
    "                return dataset[name]\n",
    "        raise AttributeError(f\"None of the variable names {possible_names} found in the dataset.\")\n",
    "\n",
    "    # Try to find longitude, latitude, and time variables\n",
    "    lon = find_variable(dataset, lon_names)\n",
    "    lat = find_variable(dataset, lat_names)\n",
    "    time = find_variable(dataset, time_names)\n",
    "\n",
    "    return lon, lat, time"
   ]
  },
  {
   "cell_type": "code",
   "execution_count": 6,
   "id": "ad47617a",
   "metadata": {},
   "outputs": [],
   "source": [
    "# Read climatology data files & compute monthly averages\n",
    "def initialize_climatology(hindcast_data_file_path, variable):\n",
    "    \"\"\"\n",
    "    Initialize climatology for the given variable from hindcast data.\n",
    "    \"\"\"\n",
    "    climatology = xr.open_mfdataset(hindcast_data_file_path)[variable]\n",
    "    climatology = climatology.groupby('time.month').mean(dim='time')\n",
    "    #if variable == 'Stream_flow': # for streamflow, we want max not mean\n",
    "        #climatology = climatology.groupby('time.month').max(dim='time') \n",
    "    return climatology\n"
   ]
  },
  {
   "cell_type": "markdown",
   "id": "bc58f74f",
   "metadata": {},
   "source": [
    "## Executable"
   ]
  },
  {
   "cell_type": "code",
   "execution_count": null,
   "id": "b1c0ce6b",
   "metadata": {},
   "outputs": [
    {
     "name": "stderr",
     "output_type": "stream",
     "text": [
      "  0%|          | 0/151 [00:00<?, ?it/s]"
     ]
    },
    {
     "name": "stdout",
     "output_type": "stream",
     "text": [
      "Processing PFAF_ID: 61581\n"
     ]
    },
    {
     "name": "stderr",
     "output_type": "stream",
     "text": [
      "  1%|          | 1/151 [00:01<03:39,  1.46s/it]"
     ]
    },
    {
     "name": "stdout",
     "output_type": "stream",
     "text": [
      "Saved: get_zonal_averages_climatology_csv\\zonal_climatology_pfaf_61581.csv\n",
      "Processing PFAF_ID: 61593\n"
     ]
    },
    {
     "name": "stderr",
     "output_type": "stream",
     "text": [
      "  1%|▏         | 2/151 [00:02<03:39,  1.48s/it]"
     ]
    },
    {
     "name": "stdout",
     "output_type": "stream",
     "text": [
      "Saved: get_zonal_averages_climatology_csv\\zonal_climatology_pfaf_61593.csv\n",
      "Processing PFAF_ID: 61592\n"
     ]
    },
    {
     "name": "stderr",
     "output_type": "stream",
     "text": [
      "  2%|▏         | 3/151 [00:04<03:39,  1.48s/it]"
     ]
    },
    {
     "name": "stdout",
     "output_type": "stream",
     "text": [
      "Saved: get_zonal_averages_climatology_csv\\zonal_climatology_pfaf_61592.csv\n",
      "Processing PFAF_ID: 61595\n"
     ]
    },
    {
     "name": "stderr",
     "output_type": "stream",
     "text": [
      "  3%|▎         | 4/151 [00:05<03:38,  1.48s/it]"
     ]
    },
    {
     "name": "stdout",
     "output_type": "stream",
     "text": [
      "Saved: get_zonal_averages_climatology_csv\\zonal_climatology_pfaf_61595.csv\n",
      "Processing PFAF_ID: 61594\n"
     ]
    },
    {
     "name": "stderr",
     "output_type": "stream",
     "text": [
      "  3%|▎         | 5/151 [00:07<03:36,  1.49s/it]"
     ]
    },
    {
     "name": "stdout",
     "output_type": "stream",
     "text": [
      "Saved: get_zonal_averages_climatology_csv\\zonal_climatology_pfaf_61594.csv\n",
      "Processing PFAF_ID: 61583\n"
     ]
    },
    {
     "name": "stderr",
     "output_type": "stream",
     "text": [
      "  4%|▍         | 6/151 [00:08<03:36,  1.49s/it]"
     ]
    },
    {
     "name": "stdout",
     "output_type": "stream",
     "text": [
      "Saved: get_zonal_averages_climatology_csv\\zonal_climatology_pfaf_61583.csv\n",
      "Processing PFAF_ID: 61585\n"
     ]
    },
    {
     "name": "stderr",
     "output_type": "stream",
     "text": [
      "  5%|▍         | 7/151 [00:10<03:35,  1.50s/it]"
     ]
    },
    {
     "name": "stdout",
     "output_type": "stream",
     "text": [
      "Saved: get_zonal_averages_climatology_csv\\zonal_climatology_pfaf_61585.csv\n",
      "Processing PFAF_ID: 61584\n"
     ]
    },
    {
     "name": "stderr",
     "output_type": "stream",
     "text": [
      "  5%|▌         | 8/151 [00:11<03:33,  1.49s/it]"
     ]
    },
    {
     "name": "stdout",
     "output_type": "stream",
     "text": [
      "Saved: get_zonal_averages_climatology_csv\\zonal_climatology_pfaf_61584.csv\n",
      "Processing PFAF_ID: 61564\n"
     ]
    },
    {
     "name": "stderr",
     "output_type": "stream",
     "text": [
      "  6%|▌         | 9/151 [00:13<03:31,  1.49s/it]"
     ]
    },
    {
     "name": "stdout",
     "output_type": "stream",
     "text": [
      "Saved: get_zonal_averages_climatology_csv\\zonal_climatology_pfaf_61564.csv\n",
      "Processing PFAF_ID: 61565\n"
     ]
    },
    {
     "name": "stderr",
     "output_type": "stream",
     "text": [
      "  7%|▋         | 10/151 [00:14<03:29,  1.49s/it]"
     ]
    },
    {
     "name": "stdout",
     "output_type": "stream",
     "text": [
      "Saved: get_zonal_averages_climatology_csv\\zonal_climatology_pfaf_61565.csv\n",
      "Processing PFAF_ID: 61567\n"
     ]
    },
    {
     "name": "stderr",
     "output_type": "stream",
     "text": [
      "  7%|▋         | 11/151 [00:16<03:26,  1.48s/it]"
     ]
    },
    {
     "name": "stdout",
     "output_type": "stream",
     "text": [
      "Saved: get_zonal_averages_climatology_csv\\zonal_climatology_pfaf_61567.csv\n",
      "Processing PFAF_ID: 61566\n"
     ]
    },
    {
     "name": "stderr",
     "output_type": "stream",
     "text": [
      "  8%|▊         | 12/151 [00:17<03:24,  1.47s/it]"
     ]
    },
    {
     "name": "stdout",
     "output_type": "stream",
     "text": [
      "Saved: get_zonal_averages_climatology_csv\\zonal_climatology_pfaf_61566.csv\n",
      "Processing PFAF_ID: 61586\n"
     ]
    },
    {
     "name": "stderr",
     "output_type": "stream",
     "text": [
      "  9%|▊         | 13/151 [00:19<03:23,  1.48s/it]"
     ]
    },
    {
     "name": "stdout",
     "output_type": "stream",
     "text": [
      "Saved: get_zonal_averages_climatology_csv\\zonal_climatology_pfaf_61586.csv\n",
      "Processing PFAF_ID: 61587\n"
     ]
    },
    {
     "name": "stderr",
     "output_type": "stream",
     "text": [
      "  9%|▉         | 14/151 [00:20<03:23,  1.48s/it]"
     ]
    },
    {
     "name": "stdout",
     "output_type": "stream",
     "text": [
      "Saved: get_zonal_averages_climatology_csv\\zonal_climatology_pfaf_61587.csv\n",
      "Processing PFAF_ID: 61589\n"
     ]
    },
    {
     "name": "stderr",
     "output_type": "stream",
     "text": [
      " 10%|▉         | 15/151 [00:22<03:24,  1.50s/it]"
     ]
    },
    {
     "name": "stdout",
     "output_type": "stream",
     "text": [
      "Saved: get_zonal_averages_climatology_csv\\zonal_climatology_pfaf_61589.csv\n",
      "Processing PFAF_ID: 61588\n"
     ]
    },
    {
     "name": "stderr",
     "output_type": "stream",
     "text": [
      " 11%|█         | 16/151 [00:23<03:19,  1.48s/it]"
     ]
    },
    {
     "name": "stdout",
     "output_type": "stream",
     "text": [
      "Saved: get_zonal_averages_climatology_csv\\zonal_climatology_pfaf_61588.csv\n",
      "Processing PFAF_ID: 61597\n"
     ]
    },
    {
     "name": "stderr",
     "output_type": "stream",
     "text": [
      " 11%|█▏        | 17/151 [00:25<03:15,  1.46s/it]"
     ]
    },
    {
     "name": "stdout",
     "output_type": "stream",
     "text": [
      "Saved: get_zonal_averages_climatology_csv\\zonal_climatology_pfaf_61597.csv\n",
      "Processing PFAF_ID: 61596\n"
     ]
    },
    {
     "name": "stderr",
     "output_type": "stream",
     "text": [
      " 12%|█▏        | 18/151 [00:26<03:12,  1.44s/it]"
     ]
    },
    {
     "name": "stdout",
     "output_type": "stream",
     "text": [
      "Saved: get_zonal_averages_climatology_csv\\zonal_climatology_pfaf_61596.csv\n",
      "Processing PFAF_ID: 61569\n"
     ]
    },
    {
     "name": "stderr",
     "output_type": "stream",
     "text": [
      " 13%|█▎        | 19/151 [00:27<03:08,  1.43s/it]"
     ]
    },
    {
     "name": "stdout",
     "output_type": "stream",
     "text": [
      "Saved: get_zonal_averages_climatology_csv\\zonal_climatology_pfaf_61569.csv\n",
      "Processing PFAF_ID: 61568\n"
     ]
    },
    {
     "name": "stderr",
     "output_type": "stream",
     "text": [
      " 13%|█▎        | 20/151 [00:29<03:10,  1.45s/it]"
     ]
    },
    {
     "name": "stdout",
     "output_type": "stream",
     "text": [
      "Saved: get_zonal_averages_climatology_csv\\zonal_climatology_pfaf_61568.csv\n",
      "Processing PFAF_ID: 61599\n"
     ]
    },
    {
     "name": "stderr",
     "output_type": "stream",
     "text": [
      " 14%|█▍        | 21/151 [00:30<03:08,  1.45s/it]"
     ]
    },
    {
     "name": "stdout",
     "output_type": "stream",
     "text": [
      "Saved: get_zonal_averages_climatology_csv\\zonal_climatology_pfaf_61599.csv\n",
      "Processing PFAF_ID: 61598\n"
     ]
    },
    {
     "name": "stderr",
     "output_type": "stream",
     "text": [
      " 15%|█▍        | 22/151 [00:32<03:08,  1.46s/it]"
     ]
    },
    {
     "name": "stdout",
     "output_type": "stream",
     "text": [
      "Saved: get_zonal_averages_climatology_csv\\zonal_climatology_pfaf_61598.csv\n",
      "Processing PFAF_ID: 61624\n"
     ]
    },
    {
     "name": "stderr",
     "output_type": "stream",
     "text": [
      " 15%|█▌        | 23/151 [00:33<03:09,  1.48s/it]"
     ]
    },
    {
     "name": "stdout",
     "output_type": "stream",
     "text": [
      "Saved: get_zonal_averages_climatology_csv\\zonal_climatology_pfaf_61624.csv\n",
      "Processing PFAF_ID: 61625\n"
     ]
    },
    {
     "name": "stderr",
     "output_type": "stream",
     "text": [
      " 16%|█▌        | 24/151 [00:35<03:13,  1.52s/it]"
     ]
    },
    {
     "name": "stdout",
     "output_type": "stream",
     "text": [
      "Saved: get_zonal_averages_climatology_csv\\zonal_climatology_pfaf_61625.csv\n",
      "Processing PFAF_ID: 61627\n"
     ]
    },
    {
     "name": "stderr",
     "output_type": "stream",
     "text": [
      " 17%|█▋        | 25/151 [00:37<03:14,  1.54s/it]"
     ]
    },
    {
     "name": "stdout",
     "output_type": "stream",
     "text": [
      "Saved: get_zonal_averages_climatology_csv\\zonal_climatology_pfaf_61627.csv\n",
      "Processing PFAF_ID: 61626\n"
     ]
    },
    {
     "name": "stderr",
     "output_type": "stream",
     "text": [
      " 17%|█▋        | 26/151 [00:38<03:16,  1.57s/it]"
     ]
    },
    {
     "name": "stdout",
     "output_type": "stream",
     "text": [
      "Saved: get_zonal_averages_climatology_csv\\zonal_climatology_pfaf_61626.csv\n",
      "Processing PFAF_ID: 61629\n"
     ]
    },
    {
     "name": "stderr",
     "output_type": "stream",
     "text": [
      " 18%|█▊        | 27/151 [00:40<03:16,  1.58s/it]"
     ]
    },
    {
     "name": "stdout",
     "output_type": "stream",
     "text": [
      "Saved: get_zonal_averages_climatology_csv\\zonal_climatology_pfaf_61629.csv\n",
      "Processing PFAF_ID: 61628\n"
     ]
    },
    {
     "name": "stderr",
     "output_type": "stream",
     "text": [
      " 19%|█▊        | 28/151 [00:42<03:16,  1.59s/it]"
     ]
    },
    {
     "name": "stdout",
     "output_type": "stream",
     "text": [
      "Saved: get_zonal_averages_climatology_csv\\zonal_climatology_pfaf_61628.csv\n",
      "Processing PFAF_ID: 61640\n"
     ]
    },
    {
     "name": "stderr",
     "output_type": "stream",
     "text": [
      " 19%|█▉        | 29/151 [00:43<03:12,  1.58s/it]"
     ]
    },
    {
     "name": "stdout",
     "output_type": "stream",
     "text": [
      "Saved: get_zonal_averages_climatology_csv\\zonal_climatology_pfaf_61640.csv\n",
      "Processing PFAF_ID: 61650\n"
     ]
    },
    {
     "name": "stderr",
     "output_type": "stream",
     "text": [
      " 20%|█▉        | 30/151 [00:45<03:11,  1.58s/it]"
     ]
    },
    {
     "name": "stdout",
     "output_type": "stream",
     "text": [
      "Saved: get_zonal_averages_climatology_csv\\zonal_climatology_pfaf_61650.csv\n",
      "Processing PFAF_ID: 61660\n"
     ]
    },
    {
     "name": "stderr",
     "output_type": "stream",
     "text": [
      " 21%|██        | 31/151 [00:46<03:10,  1.58s/it]"
     ]
    },
    {
     "name": "stdout",
     "output_type": "stream",
     "text": [
      "Saved: get_zonal_averages_climatology_csv\\zonal_climatology_pfaf_61660.csv\n",
      "Processing PFAF_ID: 61670\n"
     ]
    },
    {
     "name": "stderr",
     "output_type": "stream",
     "text": [
      " 21%|██        | 32/151 [00:48<03:08,  1.59s/it]"
     ]
    },
    {
     "name": "stdout",
     "output_type": "stream",
     "text": [
      "Saved: get_zonal_averages_climatology_csv\\zonal_climatology_pfaf_61670.csv\n",
      "Processing PFAF_ID: 61680\n"
     ]
    },
    {
     "name": "stderr",
     "output_type": "stream",
     "text": [
      " 22%|██▏       | 33/151 [00:49<03:09,  1.61s/it]"
     ]
    },
    {
     "name": "stdout",
     "output_type": "stream",
     "text": [
      "Saved: get_zonal_averages_climatology_csv\\zonal_climatology_pfaf_61680.csv\n",
      "Processing PFAF_ID: 61690\n"
     ]
    },
    {
     "name": "stderr",
     "output_type": "stream",
     "text": [
      " 23%|██▎       | 34/151 [00:51<03:09,  1.62s/it]"
     ]
    },
    {
     "name": "stdout",
     "output_type": "stream",
     "text": [
      "Saved: get_zonal_averages_climatology_csv\\zonal_climatology_pfaf_61690.csv\n",
      "Processing PFAF_ID: 62100\n"
     ]
    },
    {
     "name": "stderr",
     "output_type": "stream",
     "text": [
      " 23%|██▎       | 35/151 [00:53<03:07,  1.62s/it]"
     ]
    },
    {
     "name": "stdout",
     "output_type": "stream",
     "text": [
      "Saved: get_zonal_averages_climatology_csv\\zonal_climatology_pfaf_62100.csv\n",
      "Processing PFAF_ID: 62210\n"
     ]
    },
    {
     "name": "stderr",
     "output_type": "stream",
     "text": [
      " 24%|██▍       | 36/151 [00:54<03:08,  1.64s/it]"
     ]
    },
    {
     "name": "stdout",
     "output_type": "stream",
     "text": [
      "Saved: get_zonal_averages_climatology_csv\\zonal_climatology_pfaf_62210.csv\n",
      "Processing PFAF_ID: 62231\n"
     ]
    },
    {
     "name": "stderr",
     "output_type": "stream",
     "text": [
      " 25%|██▍       | 37/151 [00:56<03:05,  1.62s/it]"
     ]
    },
    {
     "name": "stdout",
     "output_type": "stream",
     "text": [
      "Saved: get_zonal_averages_climatology_csv\\zonal_climatology_pfaf_62231.csv\n",
      "Processing PFAF_ID: 62221\n"
     ]
    },
    {
     "name": "stderr",
     "output_type": "stream",
     "text": [
      " 25%|██▌       | 38/151 [00:58<03:01,  1.61s/it]"
     ]
    },
    {
     "name": "stdout",
     "output_type": "stream",
     "text": [
      "Saved: get_zonal_averages_climatology_csv\\zonal_climatology_pfaf_62221.csv\n",
      "Processing PFAF_ID: 62233\n"
     ]
    },
    {
     "name": "stderr",
     "output_type": "stream",
     "text": [
      " 26%|██▌       | 39/151 [00:59<03:04,  1.64s/it]"
     ]
    },
    {
     "name": "stdout",
     "output_type": "stream",
     "text": [
      "Saved: get_zonal_averages_climatology_csv\\zonal_climatology_pfaf_62233.csv\n",
      "Processing PFAF_ID: 62232\n"
     ]
    },
    {
     "name": "stderr",
     "output_type": "stream",
     "text": [
      " 26%|██▋       | 40/151 [01:01<03:00,  1.63s/it]"
     ]
    },
    {
     "name": "stdout",
     "output_type": "stream",
     "text": [
      "Saved: get_zonal_averages_climatology_csv\\zonal_climatology_pfaf_62232.csv\n",
      "Processing PFAF_ID: 62235\n"
     ]
    },
    {
     "name": "stderr",
     "output_type": "stream",
     "text": [
      " 27%|██▋       | 41/151 [01:02<02:55,  1.60s/it]"
     ]
    },
    {
     "name": "stdout",
     "output_type": "stream",
     "text": [
      "Saved: get_zonal_averages_climatology_csv\\zonal_climatology_pfaf_62235.csv\n",
      "Processing PFAF_ID: 62234\n"
     ]
    },
    {
     "name": "stderr",
     "output_type": "stream",
     "text": [
      " 28%|██▊       | 42/151 [01:04<02:59,  1.64s/it]"
     ]
    },
    {
     "name": "stdout",
     "output_type": "stream",
     "text": [
      "Saved: get_zonal_averages_climatology_csv\\zonal_climatology_pfaf_62234.csv\n",
      "Processing PFAF_ID: 62237\n"
     ]
    },
    {
     "name": "stderr",
     "output_type": "stream",
     "text": [
      " 28%|██▊       | 43/151 [01:06<02:57,  1.64s/it]"
     ]
    },
    {
     "name": "stdout",
     "output_type": "stream",
     "text": [
      "Saved: get_zonal_averages_climatology_csv\\zonal_climatology_pfaf_62237.csv\n",
      "Processing PFAF_ID: 62236\n"
     ]
    },
    {
     "name": "stderr",
     "output_type": "stream",
     "text": [
      " 29%|██▉       | 44/151 [01:07<02:55,  1.64s/it]"
     ]
    },
    {
     "name": "stdout",
     "output_type": "stream",
     "text": [
      "Saved: get_zonal_averages_climatology_csv\\zonal_climatology_pfaf_62236.csv\n",
      "Processing PFAF_ID: 62239\n"
     ]
    },
    {
     "name": "stderr",
     "output_type": "stream",
     "text": [
      " 30%|██▉       | 45/151 [01:09<02:53,  1.63s/it]"
     ]
    },
    {
     "name": "stdout",
     "output_type": "stream",
     "text": [
      "Saved: get_zonal_averages_climatology_csv\\zonal_climatology_pfaf_62239.csv\n",
      "Processing PFAF_ID: 62238\n"
     ]
    },
    {
     "name": "stderr",
     "output_type": "stream",
     "text": [
      " 30%|███       | 46/151 [01:11<02:49,  1.61s/it]"
     ]
    },
    {
     "name": "stdout",
     "output_type": "stream",
     "text": [
      "Saved: get_zonal_averages_climatology_csv\\zonal_climatology_pfaf_62238.csv\n",
      "Processing PFAF_ID: 62241\n"
     ]
    },
    {
     "name": "stderr",
     "output_type": "stream",
     "text": [
      " 31%|███       | 47/151 [01:12<02:45,  1.59s/it]"
     ]
    },
    {
     "name": "stdout",
     "output_type": "stream",
     "text": [
      "Saved: get_zonal_averages_climatology_csv\\zonal_climatology_pfaf_62241.csv\n",
      "Processing PFAF_ID: 62251\n"
     ]
    },
    {
     "name": "stderr",
     "output_type": "stream",
     "text": [
      " 32%|███▏      | 48/151 [01:14<02:43,  1.59s/it]"
     ]
    },
    {
     "name": "stdout",
     "output_type": "stream",
     "text": [
      "Saved: get_zonal_averages_climatology_csv\\zonal_climatology_pfaf_62251.csv\n",
      "Processing PFAF_ID: 62222\n"
     ]
    },
    {
     "name": "stderr",
     "output_type": "stream",
     "text": [
      " 32%|███▏      | 49/151 [01:15<02:43,  1.61s/it]"
     ]
    },
    {
     "name": "stdout",
     "output_type": "stream",
     "text": [
      "Saved: get_zonal_averages_climatology_csv\\zonal_climatology_pfaf_62222.csv\n",
      "Processing PFAF_ID: 62223\n"
     ]
    },
    {
     "name": "stderr",
     "output_type": "stream",
     "text": [
      " 33%|███▎      | 50/151 [01:17<02:41,  1.60s/it]"
     ]
    },
    {
     "name": "stdout",
     "output_type": "stream",
     "text": [
      "Saved: get_zonal_averages_climatology_csv\\zonal_climatology_pfaf_62223.csv\n",
      "Processing PFAF_ID: 62253\n"
     ]
    },
    {
     "name": "stderr",
     "output_type": "stream",
     "text": [
      " 34%|███▍      | 51/151 [01:19<02:38,  1.58s/it]"
     ]
    },
    {
     "name": "stdout",
     "output_type": "stream",
     "text": [
      "Saved: get_zonal_averages_climatology_csv\\zonal_climatology_pfaf_62253.csv\n",
      "Processing PFAF_ID: 62252\n"
     ]
    },
    {
     "name": "stderr",
     "output_type": "stream",
     "text": [
      " 34%|███▍      | 52/151 [01:20<02:33,  1.55s/it]"
     ]
    },
    {
     "name": "stdout",
     "output_type": "stream",
     "text": [
      "Saved: get_zonal_averages_climatology_csv\\zonal_climatology_pfaf_62252.csv\n",
      "Processing PFAF_ID: 62255\n"
     ]
    },
    {
     "name": "stderr",
     "output_type": "stream",
     "text": [
      " 35%|███▌      | 53/151 [01:22<02:36,  1.59s/it]"
     ]
    },
    {
     "name": "stdout",
     "output_type": "stream",
     "text": [
      "Saved: get_zonal_averages_climatology_csv\\zonal_climatology_pfaf_62255.csv\n",
      "Processing PFAF_ID: 62254\n"
     ]
    },
    {
     "name": "stderr",
     "output_type": "stream",
     "text": [
      " 36%|███▌      | 54/151 [01:23<02:33,  1.58s/it]"
     ]
    },
    {
     "name": "stdout",
     "output_type": "stream",
     "text": [
      "Saved: get_zonal_averages_climatology_csv\\zonal_climatology_pfaf_62254.csv\n",
      "Processing PFAF_ID: 62243\n"
     ]
    },
    {
     "name": "stderr",
     "output_type": "stream",
     "text": [
      " 36%|███▋      | 55/151 [01:25<02:29,  1.56s/it]"
     ]
    },
    {
     "name": "stdout",
     "output_type": "stream",
     "text": [
      "Saved: get_zonal_averages_climatology_csv\\zonal_climatology_pfaf_62243.csv\n",
      "Processing PFAF_ID: 62242\n"
     ]
    },
    {
     "name": "stderr",
     "output_type": "stream",
     "text": [
      " 37%|███▋      | 56/151 [01:26<02:29,  1.57s/it]"
     ]
    },
    {
     "name": "stdout",
     "output_type": "stream",
     "text": [
      "Saved: get_zonal_averages_climatology_csv\\zonal_climatology_pfaf_62242.csv\n",
      "Processing PFAF_ID: 62256\n"
     ]
    },
    {
     "name": "stderr",
     "output_type": "stream",
     "text": [
      " 38%|███▊      | 57/151 [01:28<02:27,  1.57s/it]"
     ]
    },
    {
     "name": "stdout",
     "output_type": "stream",
     "text": [
      "Saved: get_zonal_averages_climatology_csv\\zonal_climatology_pfaf_62256.csv\n",
      "Processing PFAF_ID: 62257\n"
     ]
    },
    {
     "name": "stderr",
     "output_type": "stream",
     "text": [
      " 38%|███▊      | 58/151 [01:29<02:24,  1.56s/it]"
     ]
    },
    {
     "name": "stdout",
     "output_type": "stream",
     "text": [
      "Saved: get_zonal_averages_climatology_csv\\zonal_climatology_pfaf_62257.csv\n",
      "Processing PFAF_ID: 62258\n"
     ]
    },
    {
     "name": "stderr",
     "output_type": "stream",
     "text": [
      " 39%|███▉      | 59/151 [01:31<02:22,  1.55s/it]"
     ]
    },
    {
     "name": "stdout",
     "output_type": "stream",
     "text": [
      "Saved: get_zonal_averages_climatology_csv\\zonal_climatology_pfaf_62258.csv\n",
      "Processing PFAF_ID: 62259\n"
     ]
    },
    {
     "name": "stderr",
     "output_type": "stream",
     "text": [
      " 40%|███▉      | 60/151 [01:33<02:20,  1.55s/it]"
     ]
    },
    {
     "name": "stdout",
     "output_type": "stream",
     "text": [
      "Saved: get_zonal_averages_climatology_csv\\zonal_climatology_pfaf_62259.csv\n",
      "Processing PFAF_ID: 62224\n"
     ]
    },
    {
     "name": "stderr",
     "output_type": "stream",
     "text": [
      " 40%|████      | 61/151 [01:34<02:20,  1.56s/it]"
     ]
    },
    {
     "name": "stdout",
     "output_type": "stream",
     "text": [
      "Saved: get_zonal_averages_climatology_csv\\zonal_climatology_pfaf_62224.csv\n",
      "Processing PFAF_ID: 62225\n"
     ]
    },
    {
     "name": "stderr",
     "output_type": "stream",
     "text": [
      " 41%|████      | 62/151 [01:36<02:21,  1.59s/it]"
     ]
    },
    {
     "name": "stdout",
     "output_type": "stream",
     "text": [
      "Saved: get_zonal_averages_climatology_csv\\zonal_climatology_pfaf_62225.csv\n",
      "Processing PFAF_ID: 62270\n"
     ]
    },
    {
     "name": "stderr",
     "output_type": "stream",
     "text": [
      " 42%|████▏     | 63/151 [01:37<02:20,  1.60s/it]"
     ]
    },
    {
     "name": "stdout",
     "output_type": "stream",
     "text": [
      "Saved: get_zonal_averages_climatology_csv\\zonal_climatology_pfaf_62270.csv\n",
      "Processing PFAF_ID: 62261\n"
     ]
    },
    {
     "name": "stderr",
     "output_type": "stream",
     "text": [
      " 42%|████▏     | 64/151 [01:39<02:18,  1.59s/it]"
     ]
    },
    {
     "name": "stdout",
     "output_type": "stream",
     "text": [
      "Saved: get_zonal_averages_climatology_csv\\zonal_climatology_pfaf_62261.csv\n",
      "Processing PFAF_ID: 62291\n"
     ]
    },
    {
     "name": "stderr",
     "output_type": "stream",
     "text": [
      " 43%|████▎     | 65/151 [01:40<02:13,  1.55s/it]"
     ]
    },
    {
     "name": "stdout",
     "output_type": "stream",
     "text": [
      "Saved: get_zonal_averages_climatology_csv\\zonal_climatology_pfaf_62291.csv\n",
      "Processing PFAF_ID: 62281\n"
     ]
    },
    {
     "name": "stderr",
     "output_type": "stream",
     "text": [
      " 44%|████▎     | 66/151 [01:42<02:09,  1.52s/it]"
     ]
    },
    {
     "name": "stdout",
     "output_type": "stream",
     "text": [
      "Saved: get_zonal_averages_climatology_csv\\zonal_climatology_pfaf_62281.csv\n",
      "Processing PFAF_ID: 62244\n"
     ]
    },
    {
     "name": "stderr",
     "output_type": "stream",
     "text": [
      " 44%|████▍     | 67/151 [01:43<02:05,  1.50s/it]"
     ]
    },
    {
     "name": "stdout",
     "output_type": "stream",
     "text": [
      "Saved: get_zonal_averages_climatology_csv\\zonal_climatology_pfaf_62244.csv\n",
      "Processing PFAF_ID: 62245\n"
     ]
    },
    {
     "name": "stderr",
     "output_type": "stream",
     "text": [
      " 45%|████▌     | 68/151 [01:45<02:02,  1.47s/it]"
     ]
    },
    {
     "name": "stdout",
     "output_type": "stream",
     "text": [
      "Saved: get_zonal_averages_climatology_csv\\zonal_climatology_pfaf_62245.csv\n",
      "Processing PFAF_ID: 62263\n"
     ]
    },
    {
     "name": "stderr",
     "output_type": "stream",
     "text": [
      " 46%|████▌     | 69/151 [01:46<02:00,  1.46s/it]"
     ]
    },
    {
     "name": "stdout",
     "output_type": "stream",
     "text": [
      "Saved: get_zonal_averages_climatology_csv\\zonal_climatology_pfaf_62263.csv\n",
      "Processing PFAF_ID: 62262\n"
     ]
    },
    {
     "name": "stderr",
     "output_type": "stream",
     "text": [
      " 46%|████▋     | 70/151 [01:48<01:58,  1.46s/it]"
     ]
    },
    {
     "name": "stdout",
     "output_type": "stream",
     "text": [
      "Saved: get_zonal_averages_climatology_csv\\zonal_climatology_pfaf_62262.csv\n",
      "Processing PFAF_ID: 62293\n"
     ]
    },
    {
     "name": "stderr",
     "output_type": "stream",
     "text": [
      " 47%|████▋     | 71/151 [01:49<01:56,  1.46s/it]"
     ]
    },
    {
     "name": "stdout",
     "output_type": "stream",
     "text": [
      "Saved: get_zonal_averages_climatology_csv\\zonal_climatology_pfaf_62293.csv\n",
      "Processing PFAF_ID: 62292\n"
     ]
    },
    {
     "name": "stderr",
     "output_type": "stream",
     "text": [
      " 48%|████▊     | 72/151 [01:51<01:55,  1.46s/it]"
     ]
    },
    {
     "name": "stdout",
     "output_type": "stream",
     "text": [
      "Saved: get_zonal_averages_climatology_csv\\zonal_climatology_pfaf_62292.csv\n",
      "Processing PFAF_ID: 62283\n"
     ]
    },
    {
     "name": "stderr",
     "output_type": "stream",
     "text": [
      " 48%|████▊     | 73/151 [01:52<01:53,  1.46s/it]"
     ]
    },
    {
     "name": "stdout",
     "output_type": "stream",
     "text": [
      "Saved: get_zonal_averages_climatology_csv\\zonal_climatology_pfaf_62283.csv\n",
      "Processing PFAF_ID: 62282\n"
     ]
    },
    {
     "name": "stderr",
     "output_type": "stream",
     "text": [
      " 49%|████▉     | 74/151 [01:54<01:52,  1.46s/it]"
     ]
    },
    {
     "name": "stdout",
     "output_type": "stream",
     "text": [
      "Saved: get_zonal_averages_climatology_csv\\zonal_climatology_pfaf_62282.csv\n",
      "Processing PFAF_ID: 62285\n"
     ]
    },
    {
     "name": "stderr",
     "output_type": "stream",
     "text": [
      " 50%|████▉     | 75/151 [01:55<01:50,  1.46s/it]"
     ]
    },
    {
     "name": "stdout",
     "output_type": "stream",
     "text": [
      "Saved: get_zonal_averages_climatology_csv\\zonal_climatology_pfaf_62285.csv\n",
      "Processing PFAF_ID: 62284\n"
     ]
    },
    {
     "name": "stderr",
     "output_type": "stream",
     "text": [
      " 50%|█████     | 76/151 [01:56<01:49,  1.46s/it]"
     ]
    },
    {
     "name": "stdout",
     "output_type": "stream",
     "text": [
      "Saved: get_zonal_averages_climatology_csv\\zonal_climatology_pfaf_62284.csv\n",
      "Processing PFAF_ID: 62246\n"
     ]
    },
    {
     "name": "stderr",
     "output_type": "stream",
     "text": [
      " 51%|█████     | 77/151 [01:58<01:48,  1.46s/it]"
     ]
    },
    {
     "name": "stdout",
     "output_type": "stream",
     "text": [
      "Saved: get_zonal_averages_climatology_csv\\zonal_climatology_pfaf_62246.csv\n",
      "Processing PFAF_ID: 62247\n"
     ]
    },
    {
     "name": "stderr",
     "output_type": "stream",
     "text": [
      " 52%|█████▏    | 78/151 [01:59<01:46,  1.46s/it]"
     ]
    },
    {
     "name": "stdout",
     "output_type": "stream",
     "text": [
      "Saved: get_zonal_averages_climatology_csv\\zonal_climatology_pfaf_62247.csv\n",
      "Processing PFAF_ID: 62227\n"
     ]
    },
    {
     "name": "stderr",
     "output_type": "stream",
     "text": [
      " 52%|█████▏    | 79/151 [02:01<01:45,  1.46s/it]"
     ]
    },
    {
     "name": "stdout",
     "output_type": "stream",
     "text": [
      "Saved: get_zonal_averages_climatology_csv\\zonal_climatology_pfaf_62227.csv\n",
      "Processing PFAF_ID: 62226\n"
     ]
    },
    {
     "name": "stderr",
     "output_type": "stream",
     "text": [
      " 53%|█████▎    | 80/151 [02:02<01:43,  1.46s/it]"
     ]
    },
    {
     "name": "stdout",
     "output_type": "stream",
     "text": [
      "Saved: get_zonal_averages_climatology_csv\\zonal_climatology_pfaf_62226.csv\n",
      "Processing PFAF_ID: 62287\n"
     ]
    },
    {
     "name": "stderr",
     "output_type": "stream",
     "text": [
      " 54%|█████▎    | 81/151 [02:04<01:43,  1.47s/it]"
     ]
    },
    {
     "name": "stdout",
     "output_type": "stream",
     "text": [
      "Saved: get_zonal_averages_climatology_csv\\zonal_climatology_pfaf_62287.csv\n",
      "Processing PFAF_ID: 62286\n"
     ]
    },
    {
     "name": "stderr",
     "output_type": "stream",
     "text": [
      " 54%|█████▍    | 82/151 [02:05<01:41,  1.47s/it]"
     ]
    },
    {
     "name": "stdout",
     "output_type": "stream",
     "text": [
      "Saved: get_zonal_averages_climatology_csv\\zonal_climatology_pfaf_62286.csv\n",
      "Processing PFAF_ID: 62228\n"
     ]
    },
    {
     "name": "stderr",
     "output_type": "stream",
     "text": [
      " 55%|█████▍    | 83/151 [02:07<01:39,  1.46s/it]"
     ]
    },
    {
     "name": "stdout",
     "output_type": "stream",
     "text": [
      "Saved: get_zonal_averages_climatology_csv\\zonal_climatology_pfaf_62228.csv\n",
      "Processing PFAF_ID: 62249\n"
     ]
    },
    {
     "name": "stderr",
     "output_type": "stream",
     "text": [
      " 56%|█████▌    | 84/151 [02:08<01:37,  1.46s/it]"
     ]
    },
    {
     "name": "stdout",
     "output_type": "stream",
     "text": [
      "Saved: get_zonal_averages_climatology_csv\\zonal_climatology_pfaf_62249.csv\n",
      "Processing PFAF_ID: 62229\n"
     ]
    },
    {
     "name": "stderr",
     "output_type": "stream",
     "text": [
      " 56%|█████▋    | 85/151 [02:10<01:36,  1.46s/it]"
     ]
    },
    {
     "name": "stdout",
     "output_type": "stream",
     "text": [
      "Saved: get_zonal_averages_climatology_csv\\zonal_climatology_pfaf_62229.csv\n",
      "Processing PFAF_ID: 62248\n"
     ]
    },
    {
     "name": "stderr",
     "output_type": "stream",
     "text": [
      " 57%|█████▋    | 86/151 [02:11<01:34,  1.45s/it]"
     ]
    },
    {
     "name": "stdout",
     "output_type": "stream",
     "text": [
      "Saved: get_zonal_averages_climatology_csv\\zonal_climatology_pfaf_62248.csv\n",
      "Processing PFAF_ID: 62294\n"
     ]
    },
    {
     "name": "stderr",
     "output_type": "stream",
     "text": [
      " 58%|█████▊    | 87/151 [02:12<01:32,  1.44s/it]"
     ]
    },
    {
     "name": "stdout",
     "output_type": "stream",
     "text": [
      "Saved: get_zonal_averages_climatology_csv\\zonal_climatology_pfaf_62294.csv\n",
      "Processing PFAF_ID: 62295\n"
     ]
    },
    {
     "name": "stderr",
     "output_type": "stream",
     "text": [
      " 58%|█████▊    | 88/151 [02:14<01:30,  1.43s/it]"
     ]
    },
    {
     "name": "stdout",
     "output_type": "stream",
     "text": [
      "Saved: get_zonal_averages_climatology_csv\\zonal_climatology_pfaf_62295.csv\n",
      "Processing PFAF_ID: 62264\n"
     ]
    },
    {
     "name": "stderr",
     "output_type": "stream",
     "text": [
      " 59%|█████▉    | 89/151 [02:15<01:27,  1.42s/it]"
     ]
    },
    {
     "name": "stdout",
     "output_type": "stream",
     "text": [
      "Saved: get_zonal_averages_climatology_csv\\zonal_climatology_pfaf_62264.csv\n",
      "Processing PFAF_ID: 62265\n"
     ]
    },
    {
     "name": "stderr",
     "output_type": "stream",
     "text": [
      " 60%|█████▉    | 90/151 [02:17<01:27,  1.44s/it]"
     ]
    },
    {
     "name": "stdout",
     "output_type": "stream",
     "text": [
      "Saved: get_zonal_averages_climatology_csv\\zonal_climatology_pfaf_62265.csv\n",
      "Processing PFAF_ID: 62297\n"
     ]
    },
    {
     "name": "stderr",
     "output_type": "stream",
     "text": [
      " 60%|██████    | 91/151 [02:18<01:26,  1.44s/it]"
     ]
    },
    {
     "name": "stdout",
     "output_type": "stream",
     "text": [
      "Saved: get_zonal_averages_climatology_csv\\zonal_climatology_pfaf_62297.csv\n",
      "Processing PFAF_ID: 62296\n"
     ]
    },
    {
     "name": "stderr",
     "output_type": "stream",
     "text": [
      " 61%|██████    | 92/151 [02:20<01:24,  1.44s/it]"
     ]
    },
    {
     "name": "stdout",
     "output_type": "stream",
     "text": [
      "Saved: get_zonal_averages_climatology_csv\\zonal_climatology_pfaf_62296.csv\n",
      "Processing PFAF_ID: 62288\n"
     ]
    },
    {
     "name": "stderr",
     "output_type": "stream",
     "text": [
      " 62%|██████▏   | 93/151 [02:21<01:23,  1.45s/it]"
     ]
    },
    {
     "name": "stdout",
     "output_type": "stream",
     "text": [
      "Saved: get_zonal_averages_climatology_csv\\zonal_climatology_pfaf_62288.csv\n",
      "Processing PFAF_ID: 62289\n"
     ]
    },
    {
     "name": "stderr",
     "output_type": "stream",
     "text": [
      " 62%|██████▏   | 94/151 [02:23<01:22,  1.45s/it]"
     ]
    },
    {
     "name": "stdout",
     "output_type": "stream",
     "text": [
      "Saved: get_zonal_averages_climatology_csv\\zonal_climatology_pfaf_62289.csv\n",
      "Processing PFAF_ID: 62267\n"
     ]
    },
    {
     "name": "stderr",
     "output_type": "stream",
     "text": [
      " 63%|██████▎   | 95/151 [02:24<01:20,  1.45s/it]"
     ]
    },
    {
     "name": "stdout",
     "output_type": "stream",
     "text": [
      "Saved: get_zonal_averages_climatology_csv\\zonal_climatology_pfaf_62267.csv\n",
      "Processing PFAF_ID: 62266\n"
     ]
    },
    {
     "name": "stderr",
     "output_type": "stream",
     "text": [
      " 64%|██████▎   | 96/151 [02:25<01:18,  1.44s/it]"
     ]
    },
    {
     "name": "stdout",
     "output_type": "stream",
     "text": [
      "Saved: get_zonal_averages_climatology_csv\\zonal_climatology_pfaf_62266.csv\n",
      "Processing PFAF_ID: 62268\n"
     ]
    },
    {
     "name": "stderr",
     "output_type": "stream",
     "text": [
      " 64%|██████▍   | 97/151 [02:27<01:17,  1.44s/it]"
     ]
    },
    {
     "name": "stdout",
     "output_type": "stream",
     "text": [
      "Saved: get_zonal_averages_climatology_csv\\zonal_climatology_pfaf_62268.csv\n",
      "Processing PFAF_ID: 62269\n"
     ]
    },
    {
     "name": "stderr",
     "output_type": "stream",
     "text": [
      " 65%|██████▍   | 98/151 [02:28<01:15,  1.43s/it]"
     ]
    },
    {
     "name": "stdout",
     "output_type": "stream",
     "text": [
      "Saved: get_zonal_averages_climatology_csv\\zonal_climatology_pfaf_62269.csv\n",
      "Processing PFAF_ID: 62299\n"
     ]
    },
    {
     "name": "stderr",
     "output_type": "stream",
     "text": [
      " 66%|██████▌   | 99/151 [02:30<01:14,  1.43s/it]"
     ]
    },
    {
     "name": "stdout",
     "output_type": "stream",
     "text": [
      "Saved: get_zonal_averages_climatology_csv\\zonal_climatology_pfaf_62299.csv\n",
      "Processing PFAF_ID: 62298\n"
     ]
    },
    {
     "name": "stderr",
     "output_type": "stream",
     "text": [
      " 66%|██████▌   | 100/151 [02:31<01:13,  1.45s/it]"
     ]
    },
    {
     "name": "stdout",
     "output_type": "stream",
     "text": [
      "Saved: get_zonal_averages_climatology_csv\\zonal_climatology_pfaf_62298.csv\n",
      "Processing PFAF_ID: 62301\n"
     ]
    },
    {
     "name": "stderr",
     "output_type": "stream",
     "text": [
      " 67%|██████▋   | 101/151 [02:33<01:11,  1.44s/it]"
     ]
    },
    {
     "name": "stdout",
     "output_type": "stream",
     "text": [
      "Saved: get_zonal_averages_climatology_csv\\zonal_climatology_pfaf_62301.csv\n",
      "Processing PFAF_ID: 62302\n"
     ]
    },
    {
     "name": "stderr",
     "output_type": "stream",
     "text": [
      " 68%|██████▊   | 102/151 [02:34<01:10,  1.44s/it]"
     ]
    },
    {
     "name": "stdout",
     "output_type": "stream",
     "text": [
      "Saved: get_zonal_averages_climatology_csv\\zonal_climatology_pfaf_62302.csv\n",
      "Processing PFAF_ID: 62303\n"
     ]
    },
    {
     "name": "stderr",
     "output_type": "stream",
     "text": [
      " 68%|██████▊   | 103/151 [02:35<01:08,  1.43s/it]"
     ]
    },
    {
     "name": "stdout",
     "output_type": "stream",
     "text": [
      "Saved: get_zonal_averages_climatology_csv\\zonal_climatology_pfaf_62303.csv\n",
      "Processing PFAF_ID: 62304\n"
     ]
    },
    {
     "name": "stderr",
     "output_type": "stream",
     "text": [
      " 69%|██████▉   | 104/151 [02:37<01:08,  1.45s/it]"
     ]
    },
    {
     "name": "stdout",
     "output_type": "stream",
     "text": [
      "Saved: get_zonal_averages_climatology_csv\\zonal_climatology_pfaf_62304.csv\n",
      "Processing PFAF_ID: 62305\n"
     ]
    },
    {
     "name": "stderr",
     "output_type": "stream",
     "text": [
      " 70%|██████▉   | 105/151 [02:38<01:06,  1.44s/it]"
     ]
    },
    {
     "name": "stdout",
     "output_type": "stream",
     "text": [
      "Saved: get_zonal_averages_climatology_csv\\zonal_climatology_pfaf_62305.csv\n",
      "Processing PFAF_ID: 62308\n"
     ]
    },
    {
     "name": "stderr",
     "output_type": "stream",
     "text": [
      " 70%|███████   | 106/151 [02:40<01:05,  1.45s/it]"
     ]
    },
    {
     "name": "stdout",
     "output_type": "stream",
     "text": [
      "Saved: get_zonal_averages_climatology_csv\\zonal_climatology_pfaf_62308.csv\n",
      "Processing PFAF_ID: 62309\n"
     ]
    },
    {
     "name": "stderr",
     "output_type": "stream",
     "text": [
      " 71%|███████   | 107/151 [02:41<01:03,  1.44s/it]"
     ]
    },
    {
     "name": "stdout",
     "output_type": "stream",
     "text": [
      "Saved: get_zonal_averages_climatology_csv\\zonal_climatology_pfaf_62309.csv\n",
      "Processing PFAF_ID: 62452\n"
     ]
    },
    {
     "name": "stderr",
     "output_type": "stream",
     "text": [
      " 72%|███████▏  | 108/151 [02:43<01:02,  1.44s/it]"
     ]
    },
    {
     "name": "stdout",
     "output_type": "stream",
     "text": [
      "Saved: get_zonal_averages_climatology_csv\\zonal_climatology_pfaf_62452.csv\n",
      "Processing PFAF_ID: 62455\n"
     ]
    },
    {
     "name": "stderr",
     "output_type": "stream",
     "text": [
      " 72%|███████▏  | 109/151 [02:44<01:00,  1.45s/it]"
     ]
    },
    {
     "name": "stdout",
     "output_type": "stream",
     "text": [
      "Saved: get_zonal_averages_climatology_csv\\zonal_climatology_pfaf_62455.csv\n",
      "Processing PFAF_ID: 62457\n"
     ]
    },
    {
     "name": "stderr",
     "output_type": "stream",
     "text": [
      " 73%|███████▎  | 110/151 [02:46<00:59,  1.45s/it]"
     ]
    },
    {
     "name": "stdout",
     "output_type": "stream",
     "text": [
      "Saved: get_zonal_averages_climatology_csv\\zonal_climatology_pfaf_62457.csv\n",
      "Processing PFAF_ID: 62456\n"
     ]
    },
    {
     "name": "stderr",
     "output_type": "stream",
     "text": [
      " 74%|███████▎  | 111/151 [02:47<00:58,  1.46s/it]"
     ]
    },
    {
     "name": "stdout",
     "output_type": "stream",
     "text": [
      "Saved: get_zonal_averages_climatology_csv\\zonal_climatology_pfaf_62456.csv\n",
      "Processing PFAF_ID: 62459\n"
     ]
    },
    {
     "name": "stderr",
     "output_type": "stream",
     "text": [
      " 74%|███████▍  | 112/151 [02:48<00:56,  1.44s/it]"
     ]
    },
    {
     "name": "stdout",
     "output_type": "stream",
     "text": [
      "Saved: get_zonal_averages_climatology_csv\\zonal_climatology_pfaf_62459.csv\n",
      "Processing PFAF_ID: 62470\n"
     ]
    },
    {
     "name": "stderr",
     "output_type": "stream",
     "text": [
      " 75%|███████▍  | 113/151 [02:50<00:54,  1.44s/it]"
     ]
    },
    {
     "name": "stdout",
     "output_type": "stream",
     "text": [
      "Saved: get_zonal_averages_climatology_csv\\zonal_climatology_pfaf_62470.csv\n",
      "Processing PFAF_ID: 62460\n"
     ]
    },
    {
     "name": "stderr",
     "output_type": "stream",
     "text": [
      " 75%|███████▌  | 114/151 [02:51<00:53,  1.46s/it]"
     ]
    },
    {
     "name": "stdout",
     "output_type": "stream",
     "text": [
      "Saved: get_zonal_averages_climatology_csv\\zonal_climatology_pfaf_62460.csv\n",
      "Processing PFAF_ID: 62480\n"
     ]
    },
    {
     "name": "stderr",
     "output_type": "stream",
     "text": [
      " 76%|███████▌  | 115/151 [02:53<00:52,  1.46s/it]"
     ]
    },
    {
     "name": "stdout",
     "output_type": "stream",
     "text": [
      "Saved: get_zonal_averages_climatology_csv\\zonal_climatology_pfaf_62480.csv\n",
      "Processing PFAF_ID: 62491\n"
     ]
    },
    {
     "name": "stderr",
     "output_type": "stream",
     "text": [
      " 77%|███████▋  | 116/151 [02:54<00:51,  1.46s/it]"
     ]
    },
    {
     "name": "stdout",
     "output_type": "stream",
     "text": [
      "Saved: get_zonal_averages_climatology_csv\\zonal_climatology_pfaf_62491.csv\n",
      "Processing PFAF_ID: 62493\n"
     ]
    },
    {
     "name": "stderr",
     "output_type": "stream",
     "text": [
      " 77%|███████▋  | 117/151 [02:56<00:49,  1.46s/it]"
     ]
    },
    {
     "name": "stdout",
     "output_type": "stream",
     "text": [
      "Saved: get_zonal_averages_climatology_csv\\zonal_climatology_pfaf_62493.csv\n",
      "Processing PFAF_ID: 62492\n"
     ]
    },
    {
     "name": "stderr",
     "output_type": "stream",
     "text": [
      " 78%|███████▊  | 118/151 [02:57<00:47,  1.44s/it]"
     ]
    },
    {
     "name": "stdout",
     "output_type": "stream",
     "text": [
      "Saved: get_zonal_averages_climatology_csv\\zonal_climatology_pfaf_62492.csv\n",
      "Processing PFAF_ID: 62494\n"
     ]
    },
    {
     "name": "stderr",
     "output_type": "stream",
     "text": [
      " 79%|███████▉  | 119/151 [02:59<00:45,  1.43s/it]"
     ]
    },
    {
     "name": "stdout",
     "output_type": "stream",
     "text": [
      "Saved: get_zonal_averages_climatology_csv\\zonal_climatology_pfaf_62494.csv\n",
      "Processing PFAF_ID: 62495\n"
     ]
    },
    {
     "name": "stderr",
     "output_type": "stream",
     "text": [
      " 79%|███████▉  | 120/151 [03:00<00:44,  1.42s/it]"
     ]
    },
    {
     "name": "stdout",
     "output_type": "stream",
     "text": [
      "Saved: get_zonal_averages_climatology_csv\\zonal_climatology_pfaf_62495.csv\n",
      "Processing PFAF_ID: 62497\n"
     ]
    },
    {
     "name": "stderr",
     "output_type": "stream",
     "text": [
      " 80%|████████  | 121/151 [03:01<00:42,  1.42s/it]"
     ]
    },
    {
     "name": "stdout",
     "output_type": "stream",
     "text": [
      "Saved: get_zonal_averages_climatology_csv\\zonal_climatology_pfaf_62497.csv\n",
      "Processing PFAF_ID: 62496\n"
     ]
    },
    {
     "name": "stderr",
     "output_type": "stream",
     "text": [
      " 81%|████████  | 122/151 [03:03<00:40,  1.41s/it]"
     ]
    },
    {
     "name": "stdout",
     "output_type": "stream",
     "text": [
      "Saved: get_zonal_averages_climatology_csv\\zonal_climatology_pfaf_62496.csv\n",
      "Processing PFAF_ID: 62498\n"
     ]
    },
    {
     "name": "stderr",
     "output_type": "stream",
     "text": [
      " 81%|████████▏ | 123/151 [03:04<00:39,  1.41s/it]"
     ]
    },
    {
     "name": "stdout",
     "output_type": "stream",
     "text": [
      "Saved: get_zonal_averages_climatology_csv\\zonal_climatology_pfaf_62498.csv\n",
      "Processing PFAF_ID: 62499\n"
     ]
    },
    {
     "name": "stderr",
     "output_type": "stream",
     "text": [
      " 82%|████████▏ | 124/151 [03:06<00:39,  1.45s/it]"
     ]
    },
    {
     "name": "stdout",
     "output_type": "stream",
     "text": [
      "Saved: get_zonal_averages_climatology_csv\\zonal_climatology_pfaf_62499.csv\n",
      "Processing PFAF_ID: 64276\n"
     ]
    },
    {
     "name": "stderr",
     "output_type": "stream",
     "text": [
      " 83%|████████▎ | 125/151 [03:07<00:37,  1.45s/it]"
     ]
    },
    {
     "name": "stdout",
     "output_type": "stream",
     "text": [
      "Saved: get_zonal_averages_climatology_csv\\zonal_climatology_pfaf_64276.csv\n",
      "Processing PFAF_ID: 64277\n"
     ]
    },
    {
     "name": "stderr",
     "output_type": "stream",
     "text": [
      " 83%|████████▎ | 126/151 [03:09<00:36,  1.45s/it]"
     ]
    },
    {
     "name": "stdout",
     "output_type": "stream",
     "text": [
      "Saved: get_zonal_averages_climatology_csv\\zonal_climatology_pfaf_64277.csv\n",
      "Processing PFAF_ID: 64279\n"
     ]
    },
    {
     "name": "stderr",
     "output_type": "stream",
     "text": [
      " 84%|████████▍ | 127/151 [03:10<00:34,  1.44s/it]"
     ]
    },
    {
     "name": "stdout",
     "output_type": "stream",
     "text": [
      "Saved: get_zonal_averages_climatology_csv\\zonal_climatology_pfaf_64279.csv\n",
      "Processing PFAF_ID: 64281\n"
     ]
    },
    {
     "name": "stderr",
     "output_type": "stream",
     "text": [
      " 85%|████████▍ | 128/151 [03:12<00:33,  1.47s/it]"
     ]
    },
    {
     "name": "stdout",
     "output_type": "stream",
     "text": [
      "Saved: get_zonal_averages_climatology_csv\\zonal_climatology_pfaf_64281.csv\n",
      "Processing PFAF_ID: 64291\n"
     ]
    },
    {
     "name": "stderr",
     "output_type": "stream",
     "text": [
      " 85%|████████▌ | 129/151 [03:13<00:31,  1.45s/it]"
     ]
    },
    {
     "name": "stdout",
     "output_type": "stream",
     "text": [
      "Saved: get_zonal_averages_climatology_csv\\zonal_climatology_pfaf_64291.csv\n",
      "Processing PFAF_ID: 64249\n"
     ]
    },
    {
     "name": "stderr",
     "output_type": "stream",
     "text": [
      " 86%|████████▌ | 130/151 [03:14<00:30,  1.47s/it]"
     ]
    },
    {
     "name": "stdout",
     "output_type": "stream",
     "text": [
      "Saved: get_zonal_averages_climatology_csv\\zonal_climatology_pfaf_64249.csv\n",
      "Processing PFAF_ID: 64248\n"
     ]
    },
    {
     "name": "stderr",
     "output_type": "stream",
     "text": [
      " 87%|████████▋ | 131/151 [03:16<00:29,  1.46s/it]"
     ]
    },
    {
     "name": "stdout",
     "output_type": "stream",
     "text": [
      "Saved: get_zonal_averages_climatology_csv\\zonal_climatology_pfaf_64248.csv\n",
      "Processing PFAF_ID: 64283\n"
     ]
    },
    {
     "name": "stderr",
     "output_type": "stream",
     "text": [
      " 87%|████████▋ | 132/151 [03:17<00:27,  1.45s/it]"
     ]
    },
    {
     "name": "stdout",
     "output_type": "stream",
     "text": [
      "Saved: get_zonal_averages_climatology_csv\\zonal_climatology_pfaf_64283.csv\n",
      "Processing PFAF_ID: 64284\n"
     ]
    },
    {
     "name": "stderr",
     "output_type": "stream",
     "text": [
      " 88%|████████▊ | 133/151 [03:19<00:26,  1.45s/it]"
     ]
    },
    {
     "name": "stdout",
     "output_type": "stream",
     "text": [
      "Saved: get_zonal_averages_climatology_csv\\zonal_climatology_pfaf_64284.csv\n",
      "Processing PFAF_ID: 67101\n"
     ]
    },
    {
     "name": "stderr",
     "output_type": "stream",
     "text": [
      " 89%|████████▊ | 134/151 [03:20<00:24,  1.45s/it]"
     ]
    },
    {
     "name": "stdout",
     "output_type": "stream",
     "text": [
      "Saved: get_zonal_averages_climatology_csv\\zonal_climatology_pfaf_67101.csv\n",
      "Processing PFAF_ID: 67102\n"
     ]
    },
    {
     "name": "stderr",
     "output_type": "stream",
     "text": [
      " 89%|████████▉ | 135/151 [03:22<00:23,  1.44s/it]"
     ]
    },
    {
     "name": "stdout",
     "output_type": "stream",
     "text": [
      "Saved: get_zonal_averages_climatology_csv\\zonal_climatology_pfaf_67102.csv\n",
      "Processing PFAF_ID: 67103\n"
     ]
    },
    {
     "name": "stderr",
     "output_type": "stream",
     "text": [
      " 90%|█████████ | 136/151 [03:23<00:21,  1.45s/it]"
     ]
    },
    {
     "name": "stdout",
     "output_type": "stream",
     "text": [
      "Saved: get_zonal_averages_climatology_csv\\zonal_climatology_pfaf_67103.csv\n",
      "Processing PFAF_ID: 67104\n"
     ]
    },
    {
     "name": "stderr",
     "output_type": "stream",
     "text": [
      " 91%|█████████ | 137/151 [03:25<00:20,  1.44s/it]"
     ]
    },
    {
     "name": "stdout",
     "output_type": "stream",
     "text": [
      "Saved: get_zonal_averages_climatology_csv\\zonal_climatology_pfaf_67104.csv\n",
      "Processing PFAF_ID: 67105\n"
     ]
    },
    {
     "name": "stderr",
     "output_type": "stream",
     "text": [
      " 91%|█████████▏| 138/151 [03:26<00:18,  1.44s/it]"
     ]
    },
    {
     "name": "stdout",
     "output_type": "stream",
     "text": [
      "Saved: get_zonal_averages_climatology_csv\\zonal_climatology_pfaf_67105.csv\n",
      "Processing PFAF_ID: 67106\n"
     ]
    },
    {
     "name": "stderr",
     "output_type": "stream",
     "text": [
      " 92%|█████████▏| 139/151 [03:27<00:17,  1.45s/it]"
     ]
    },
    {
     "name": "stdout",
     "output_type": "stream",
     "text": [
      "Saved: get_zonal_averages_climatology_csv\\zonal_climatology_pfaf_67106.csv\n",
      "Processing PFAF_ID: 67107\n"
     ]
    },
    {
     "name": "stderr",
     "output_type": "stream",
     "text": [
      " 93%|█████████▎| 140/151 [03:29<00:15,  1.44s/it]"
     ]
    },
    {
     "name": "stdout",
     "output_type": "stream",
     "text": [
      "Saved: get_zonal_averages_climatology_csv\\zonal_climatology_pfaf_67107.csv\n",
      "Processing PFAF_ID: 67108\n"
     ]
    },
    {
     "name": "stderr",
     "output_type": "stream",
     "text": [
      " 93%|█████████▎| 141/151 [03:30<00:14,  1.44s/it]"
     ]
    },
    {
     "name": "stdout",
     "output_type": "stream",
     "text": [
      "Saved: get_zonal_averages_climatology_csv\\zonal_climatology_pfaf_67108.csv\n",
      "Processing PFAF_ID: 67109\n"
     ]
    },
    {
     "name": "stderr",
     "output_type": "stream",
     "text": [
      " 94%|█████████▍| 142/151 [03:32<00:12,  1.44s/it]"
     ]
    },
    {
     "name": "stdout",
     "output_type": "stream",
     "text": [
      "Saved: get_zonal_averages_climatology_csv\\zonal_climatology_pfaf_67109.csv\n",
      "Processing PFAF_ID: 67201\n"
     ]
    },
    {
     "name": "stderr",
     "output_type": "stream",
     "text": [
      " 95%|█████████▍| 143/151 [03:33<00:11,  1.44s/it]"
     ]
    },
    {
     "name": "stdout",
     "output_type": "stream",
     "text": [
      "Saved: get_zonal_averages_climatology_csv\\zonal_climatology_pfaf_67201.csv\n",
      "Processing PFAF_ID: 67202\n"
     ]
    },
    {
     "name": "stderr",
     "output_type": "stream",
     "text": [
      " 95%|█████████▌| 144/151 [03:35<00:10,  1.46s/it]"
     ]
    },
    {
     "name": "stdout",
     "output_type": "stream",
     "text": [
      "Saved: get_zonal_averages_climatology_csv\\zonal_climatology_pfaf_67202.csv\n",
      "Processing PFAF_ID: 67203\n"
     ]
    },
    {
     "name": "stderr",
     "output_type": "stream",
     "text": [
      " 96%|█████████▌| 145/151 [03:36<00:08,  1.45s/it]"
     ]
    },
    {
     "name": "stdout",
     "output_type": "stream",
     "text": [
      "Saved: get_zonal_averages_climatology_csv\\zonal_climatology_pfaf_67203.csv\n",
      "Processing PFAF_ID: 67204\n"
     ]
    },
    {
     "name": "stderr",
     "output_type": "stream",
     "text": [
      " 97%|█████████▋| 146/151 [03:38<00:07,  1.45s/it]"
     ]
    },
    {
     "name": "stdout",
     "output_type": "stream",
     "text": [
      "Saved: get_zonal_averages_climatology_csv\\zonal_climatology_pfaf_67204.csv\n",
      "Processing PFAF_ID: 67205\n"
     ]
    },
    {
     "name": "stderr",
     "output_type": "stream",
     "text": [
      " 97%|█████████▋| 147/151 [03:39<00:05,  1.47s/it]"
     ]
    },
    {
     "name": "stdout",
     "output_type": "stream",
     "text": [
      "Saved: get_zonal_averages_climatology_csv\\zonal_climatology_pfaf_67205.csv\n",
      "Processing PFAF_ID: 67206\n"
     ]
    },
    {
     "name": "stderr",
     "output_type": "stream",
     "text": [
      " 98%|█████████▊| 148/151 [03:41<00:04,  1.48s/it]"
     ]
    },
    {
     "name": "stdout",
     "output_type": "stream",
     "text": [
      "Saved: get_zonal_averages_climatology_csv\\zonal_climatology_pfaf_67206.csv\n",
      "Processing PFAF_ID: 67207\n"
     ]
    },
    {
     "name": "stderr",
     "output_type": "stream",
     "text": [
      " 99%|█████████▊| 149/151 [03:42<00:02,  1.47s/it]"
     ]
    },
    {
     "name": "stdout",
     "output_type": "stream",
     "text": [
      "Saved: get_zonal_averages_climatology_csv\\zonal_climatology_pfaf_67207.csv\n",
      "Processing PFAF_ID: 67208\n"
     ]
    },
    {
     "name": "stderr",
     "output_type": "stream",
     "text": [
      " 99%|█████████▉| 150/151 [03:44<00:01,  1.47s/it]"
     ]
    },
    {
     "name": "stdout",
     "output_type": "stream",
     "text": [
      "Saved: get_zonal_averages_climatology_csv\\zonal_climatology_pfaf_67208.csv\n",
      "Processing PFAF_ID: 66405\n"
     ]
    },
    {
     "name": "stderr",
     "output_type": "stream",
     "text": [
      "100%|██████████| 151/151 [03:45<00:00,  1.49s/it]"
     ]
    },
    {
     "name": "stdout",
     "output_type": "stream",
     "text": [
      "Saved: get_zonal_averages_climatology_csv\\zonal_climatology_pfaf_66405.csv\n"
     ]
    },
    {
     "name": "stderr",
     "output_type": "stream",
     "text": [
      "\n"
     ]
    }
   ],
   "source": [
    "for variable in tqdm(list_of_variables.keys()):\n",
    "    \n",
    "    print(list_of_variables.get(variable))\n",
    "\n",
    "    #hindcast = read_trim_hindcast(hindcast_file_paths, va=variable)\n",
    "\n",
    "    climatology = initialize_climatology(hindcast_files, variable)\n",
    "\n",
    "    #print(climatology.name)\n",
    "\n",
    "    file_savepath = './get_deterministic_climatology/deterministic_' + initialization_date.replace('-','_')\n",
    "    \n",
    "    climatology.to_netcdf(file_savepath + '_climatology_' + str(variable) + '.nc')\n",
    "\n",
    "    print('Saved climatology values for ' + str(list_of_variables.get(variable)) + '!')\n",
    "\n",
    "ds_climatology = xr.open_mfdataset(rf'get_deterministic_climatology/*.nc')\n",
    "\n",
    "lon, lat, months = get_standard_coordinates(ds_climatology)\n",
    "\n",
    "output_dir = \"get_zonal_averages_climatology_csv\"\n",
    "os.makedirs(output_dir, exist_ok=True)\n",
    "soilmoist_levels = [0,1,2,3]\n",
    "soiltemp_levels = [0,1,2,3]\n",
    "\n",
    "for pfaf_id in tqdm(pfaf_ids_aoi): # Iterate over each PFAF_ID\n",
    "    print(f'Processing PFAF_ID: {pfaf_id}')\n",
    "    aoi = geodataframe[geodataframe.PFAF_ID == pfaf_id] \n",
    "\n",
    "    if aoi.empty:\n",
    "        continue\n",
    "    aoi_mask = regionmask.mask_3D_geopandas(aoi, lon, lat) # Create AOI mask\n",
    "\n",
    "    records = [] # Initialize records list\n",
    "    # Iterate over time and ensemble dimensions\n",
    "    for t in ds_climatology['month'].values: \n",
    "        row = {'month': t, 'pfaf_id': pfaf_id} # Initialize row with time, and PFAF_ID\n",
    "        for var in list_of_variables.keys(): # Iterate over each variable\n",
    "            # Check if variable is SoilMoist_inst or SoilTemp_inst to handle levels\n",
    "            if var == 'SoilMoist_inst': \n",
    "                for lvl in soilmoist_levels: \n",
    "                    col = f'SoilMoist_inst_lvl_{lvl}' # Create column name for soil moisture levels\n",
    "                    if 'SoilMoist_profiles' in ds_climatology[var].dims:\n",
    "                        data = ds_climatology[var].sel(month=t, SoilMoist_profiles=lvl)\n",
    "                        if 'ensemble' in data.dims:\n",
    "                            data = data.mean(dim='ensemble') # Average over ensemble if exists\n",
    "                        masked = data.where(aoi_mask)\n",
    "                        row[col] = masked.mean(dim=['lat','lon'], skipna=True).values.item()\n",
    "                    else:\n",
    "                        row[col] = None\n",
    "            elif var == 'SoilTemp_inst':\n",
    "                for lvl in soiltemp_levels:\n",
    "                    col = f'SoilTemp_inst_lvl_{lvl}'\n",
    "                    if 'SoilTemp_profiles' in ds_climatology[var].dims:\n",
    "                        data = ds_climatology[var].sel(month=t, SoilTemp_profiles=lvl)\n",
    "                        if 'ensemble' in data.dims:\n",
    "                            data = data.mean(dim='ensemble') # Average over ensemble if exists\n",
    "                        masked = data.where(aoi_mask)\n",
    "                        row[col] = masked.mean(dim=['lat','lon'], skipna=True).values.item()\n",
    "                    else:\n",
    "                        row[col] = None\n",
    "            elif var == 'Streamflow_tavg':\n",
    "                col = 'Streamflow_tavg'\n",
    "                if var in ds_climatology.variables:\n",
    "                    data = ds_climatology[var].sel(month=t)\n",
    "                    if 'ensemble' in data.dims:\n",
    "                        data = data.mean(dim='ensemble') # Average over ensemble if exists\n",
    "                    masked = data.where(aoi_mask)\n",
    "                    row[col] = masked.max(dim=['lat','lon'], skipna=True).values.item() # Use max for streamflow\n",
    "                else:\n",
    "                    row[col] = None\n",
    "            \n",
    "            else:\n",
    "                if var in ds_climatology.variables:\n",
    "                    data = ds_climatology[var].sel(month=t)\n",
    "                    if 'ensemble' in data.dims:\n",
    "                        data = data.mean(dim='ensemble') # Average over ensemble if exists\n",
    "                    masked = data.where(aoi_mask)\n",
    "                    row[var] = masked.mean(dim=['lat','lon'], skipna=True).values.item()\n",
    "                else:\n",
    "                    row[var] = None\n",
    "        records.append(row)\n",
    "    df = pd.DataFrame(records)\n",
    "    out_csv = os.path.join(output_dir, f\"zonal_climatology_pfaf_{pfaf_id}.csv\")\n",
    "    df.to_csv(out_csv, index=False)\n",
    "    print(f\"Saved: {out_csv}\")"
   ]
  }
 ],
 "metadata": {
  "kernelspec": {
   "display_name": "analytics",
   "language": "python",
   "name": "python3"
  },
  "language_info": {
   "codemirror_mode": {
    "name": "ipython",
    "version": 3
   },
   "file_extension": ".py",
   "mimetype": "text/x-python",
   "name": "python",
   "nbconvert_exporter": "python",
   "pygments_lexer": "ipython3",
   "version": "3.12.9"
  }
 },
 "nbformat": 4,
 "nbformat_minor": 5
}
